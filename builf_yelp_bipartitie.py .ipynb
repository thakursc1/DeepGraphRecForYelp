{
 "cells": [
  {
   "cell_type": "code",
   "execution_count": 46,
   "metadata": {
    "ExecuteTime": {
     "end_time": "2020-07-04T07:09:26.456433Z",
     "start_time": "2020-07-04T07:09:26.398588Z"
    }
   },
   "outputs": [],
   "source": [
    "# !pip install plotly==4.8.2\n",
    "# !pip install networkx\n",
    "import networkx as nx\n",
    "import plotly as plt\n",
    "import os, shutil\n",
    "import json\n",
    "import tqdm"
   ]
  },
  {
   "cell_type": "code",
   "execution_count": null,
   "metadata": {
    "ExecuteTime": {
     "start_time": "2020-07-04T07:59:16.314Z"
    }
   },
   "outputs": [
    {
     "name": "stdout",
     "output_type": "stream",
     "text": [
      "Found 5 Files \n",
      "['yelp_academic_dataset_business.json', 'yelp_academic_dataset_checkin.json', 'yelp_academic_dataset_review.json', 'yelp_academic_dataset_tip.json', 'yelp_academic_dataset_user.json']\n",
      "Initializing Graph...\n",
      "Reading user Json file...\n"
     ]
    },
    {
     "name": "stderr",
     "output_type": "stream",
     "text": [
      "530413it [00:21, 25101.71it/s]"
     ]
    }
   ],
   "source": [
    "class GraphBuilder(object):\n",
    "    def __init__(self, yelp_dataset = None):\n",
    "        if not os.path.exists(\"./yelp_data_uncompressed\"):\n",
    "            print(\"Unarchiving dataset...\")\n",
    "            shutil.unpack_archive(yelp_dataset, \"yelp_data_uncompressed\", \"tar\")\n",
    "        self.raw_data = \"./yelp_data_uncompressed\"\n",
    "        self.data_files = [file for file in os.listdir(self.raw_data) if file.endswith(\".json\")]\n",
    "        print(\"Found {} Files \\n{}\".format(len(self.data_files), self.data_files))\n",
    "        \n",
    "        print(\"Initializing Graph...\")\n",
    "        # Using MutiGraph as we have multiple types of edges between the user and business\n",
    "        self.graph = nx.MultiGraph()\n",
    "        self.add_Nodes(\"user\")\n",
    "        self.add_Nodes(\"business\")\n",
    "        self.add_Edges(src = \"user\", dest = \"business\", edge_type = \"review\")\n",
    "        self.add_Edges(src = \"user\", dest = \"business\", edge_type = \"review\")\n",
    "    def _save_graph(name = \"./yelp_graph.pkl\"):\n",
    "        self.G.write(name)\n",
    "        \n",
    "    def add_Nodes(self, node_type):\n",
    "        \"\"\"\n",
    "        Populates graph with [\"Business\", \"user\"] nodes\n",
    "        \"\"\"\n",
    "        temp = os.path.join(self.raw_data, [file for file in self.data_files if file.endswith(\"{}.json\".format(node_type))][0])\n",
    "        \n",
    "        print(\"Reading {} Json file...\".format(node_type))\n",
    "        nodes = []\n",
    "        with open(temp, \"rb\") as f:\n",
    "            for line in tqdm.tqdm(f):\n",
    "                data = json.loads(line)\n",
    "                # Load items as tuples for easy load in Graphs (Node_id, attributes)\n",
    "#                 nodes.append((\"{}_{}\".format(node_type, data['{}_id'.format(node_type)]), data))\n",
    "                self.graph.add_nodes_from([(\"{}_{}\".format(node_type, data['{}_id'.format(node_type)]), data)])\n",
    "#         print(\"Adding nodes to the graph...\")      \n",
    "#         self.graph.add_nodes_from(nodes)\n",
    "        print(\"Added {} {} Nodes...\".format(len(nodes), node_type))\n",
    "        \n",
    "    def add_Edges(self, src, dest, edge_type):\n",
    "        \"\"\"\n",
    "        A utility to add and edge between src and dest of type edge_type [\"reviews\", \"tip\", \"check_in\"]\n",
    "        \"\"\"\n",
    "        \n",
    "        temp = os.path.join(self.raw_data, [file for file in self.data_files if file.endswith(\"{}.json\".format(edge_type))][0])\n",
    "        \n",
    "        print(\"Reading {} Json file...\".format(edge_type))\n",
    "        edges = []\n",
    "        with open(temp, \"rb\") as f:\n",
    "            for line in tqdm.tqdm(f):\n",
    "                data = json.loads(line)\n",
    "                # Load items as tuples for easy load in Graphs (Node_id, attributes)\n",
    "#                 edges.append((\"{}_{}\".format(src, data[\"{}_id\".format(src)]), # src_node\n",
    "#                               \"{}_{}\".format(dest, data[\"{}_id\".format(src)]), # dest_node,\n",
    "#                               \"{}\".format(edge_type), # edge_type\n",
    "#                               data))\n",
    "                self.graph.add_edges_from(\n",
    "                    [(\"{}_{}\".format(src, data[\"{}_id\".format(src)]), # src_node\n",
    "                              \"{}_{}\".format(dest, data[\"{}_id\".format(src)]), # dest_node,\n",
    "                              \"{}\".format(edge_type), # edge_type\n",
    "                              data)])\n",
    "#         print(\"Adding Edges to the graph...\")\n",
    "#         self.graph.add_edges_from(edges)\n",
    "        print(\"Added {} {} Edges...\".format(len(edges), edge_type))\n",
    "        \n",
    "        \n",
    "        \n",
    "g = GraphBuilder(\"./yelp_dataset.tar\")"
   ]
  },
  {
   "cell_type": "code",
   "execution_count": null,
   "metadata": {
    "ExecuteTime": {
     "end_time": "2020-07-04T07:57:47.014071Z",
     "start_time": "2020-07-04T07:51:45.794Z"
    }
   },
   "outputs": [],
   "source": [
    "len(g.edges)"
   ]
  },
  {
   "cell_type": "code",
   "execution_count": null,
   "metadata": {},
   "outputs": [],
   "source": []
  }
 ],
 "metadata": {
  "kernelspec": {
   "display_name": "Python 3",
   "language": "python",
   "name": "python3"
  },
  "language_info": {
   "codemirror_mode": {
    "name": "ipython",
    "version": 3
   },
   "file_extension": ".py",
   "mimetype": "text/x-python",
   "name": "python",
   "nbconvert_exporter": "python",
   "pygments_lexer": "ipython3",
   "version": "3.7.7"
  }
 },
 "nbformat": 4,
 "nbformat_minor": 4
}
